{
  "nbformat": 4,
  "nbformat_minor": 0,
  "metadata": {
    "colab": {
      "name": "리스트 연습.ipynb",
      "provenance": [],
      "authorship_tag": "ABX9TyPgyL7EPuxXGf7VAdve7YB1",
      "include_colab_link": true
    },
    "kernelspec": {
      "name": "python3",
      "display_name": "Python 3"
    },
    "language_info": {
      "name": "python"
    }
  },
  "cells": [
    {
      "cell_type": "markdown",
      "metadata": {
        "id": "view-in-github",
        "colab_type": "text"
      },
      "source": [
        "<a href=\"https://colab.research.google.com/github/munmoom/5-BCP/blob/main/%EB%A6%AC%EC%8A%A4%ED%8A%B8_%EC%97%B0%EC%8A%B5.ipynb\" target=\"_parent\"><img src=\"https://colab.research.google.com/assets/colab-badge.svg\" alt=\"Open In Colab\"/></a>"
      ]
    },
    {
      "cell_type": "code",
      "execution_count": null,
      "metadata": {
        "colab": {
          "base_uri": "https://localhost:8080/"
        },
        "id": "J-gmP_K82257",
        "outputId": "a8ab0b58-66c3-4c30-cb0d-c671bf1b0f6b"
      },
      "outputs": [
        {
          "output_type": "stream",
          "name": "stdout",
          "text": [
            "[[None, None], [None, None], [None, None]]\n"
          ]
        }
      ],
      "source": [
        "A = [None] * 3\n",
        "for i in range(3):\n",
        "    A[i] = [None] * 2\n",
        "print(A)\n",
        "\n"
      ]
    },
    {
      "cell_type": "code",
      "source": [
        "w, h = 2, 3\n",
        "A = [[None] * w for i in range(h)]\n",
        "print(A)"
      ],
      "metadata": {
        "colab": {
          "base_uri": "https://localhost:8080/"
        },
        "id": "sUv8TKo93oUA",
        "outputId": "431d9d36-d6da-4a18-9fe2-9c7b9b67cc96"
      },
      "execution_count": null,
      "outputs": [
        {
          "output_type": "stream",
          "name": "stdout",
          "text": [
            "[[None, None], [None, None], [None, None]]\n"
          ]
        }
      ]
    },
    {
      "cell_type": "code",
      "source": [
        "\n",
        "lists = [[] for i in range(3)]\n",
        "lists[0].append(3)\n",
        "lists[1].append(5)\n",
        "lists[2].append(7)\n",
        "\n",
        "print(lists)"
      ],
      "metadata": {
        "colab": {
          "base_uri": "https://localhost:8080/"
        },
        "id": "fj3xzstJ4UXL",
        "outputId": "16e85559-b907-42c0-99e3-5374e82ae557"
      },
      "execution_count": null,
      "outputs": [
        {
          "output_type": "stream",
          "name": "stdout",
          "text": [
            "[[3], [5], [7]]\n"
          ]
        }
      ]
    },
    {
      "cell_type": "code",
      "source": [
        "A = [None] * 3\n",
        "for i in range(-3, 0):\n",
        "    A[i] = [None] * 2\n",
        "len(A)\n"
      ],
      "metadata": {
        "colab": {
          "base_uri": "https://localhost:8080/"
        },
        "id": "kgFRT2UV8bll",
        "outputId": "3386ded7-6593-448a-b1d5-cbd3d5193719"
      },
      "execution_count": null,
      "outputs": [
        {
          "output_type": "execute_result",
          "data": {
            "text/plain": [
              "3"
            ]
          },
          "metadata": {},
          "execution_count": 15
        }
      ]
    }
  ]
}