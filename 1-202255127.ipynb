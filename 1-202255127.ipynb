{
  "nbformat": 4,
  "nbformat_minor": 0,
  "metadata": {
    "colab": {
      "name": "1-202255127.ipynb",
      "provenance": [],
      "authorship_tag": "ABX9TyNArXNZD++SC883B3Y+Hb0h",
      "include_colab_link": true
    },
    "kernelspec": {
      "name": "python3",
      "display_name": "Python 3"
    },
    "language_info": {
      "name": "python"
    }
  },
  "cells": [
    {
      "cell_type": "markdown",
      "metadata": {
        "id": "view-in-github",
        "colab_type": "text"
      },
      "source": [
        "<a href=\"https://colab.research.google.com/github/munmoom/5-BCP/blob/main/1-202255127.ipynb\" target=\"_parent\"><img src=\"https://colab.research.google.com/assets/colab-badge.svg\" alt=\"Open In Colab\"/></a>"
      ]
    },
    {
      "cell_type": "code",
      "execution_count": null,
      "metadata": {
        "id": "0nuXTnx1BeLC"
      },
      "outputs": [],
      "source": [
        "country_capital = {'아이슬란드':'레이캬비크\",\n",
        "                   '터키':'앙카라',\n",
        "                   '캐나다':'오타와',\n",
        "                   '뉴질랜드':'웰링턴',\n",
        "                   '스위스':'베른',\n",
        "                   '네덜란드':'암스테르담',\n",
        "                   '그리스:아테네',\n",
        "                   '라오스':'비엔티안',\n",
        "                   '브라질':'브라질리아',\n",
        "                   '벨기에':'브뤼셀',\n",
        "                   '우간다':'캄팔라',\n",
        "                   '파라과이':'아순시온'}\n",
        "\n",
        "i = 0\n",
        "sco = 0\n",
        "while i < 12:\n",
        "  i += 1\n",
        "  a = input()\n",
        "  "
      ]
    }
  ]
}