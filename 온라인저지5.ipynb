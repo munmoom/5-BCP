{
  "nbformat": 4,
  "nbformat_minor": 0,
  "metadata": {
    "colab": {
      "name": "온라인저지5.ipynb",
      "provenance": [],
      "authorship_tag": "ABX9TyNjKI/b1nUcY/jn3snvMiU7",
      "include_colab_link": true
    },
    "kernelspec": {
      "name": "python3",
      "display_name": "Python 3"
    },
    "language_info": {
      "name": "python"
    }
  },
  "cells": [
    {
      "cell_type": "markdown",
      "metadata": {
        "id": "view-in-github",
        "colab_type": "text"
      },
      "source": [
        "<a href=\"https://colab.research.google.com/github/munmoom/5-BCP/blob/main/%EC%98%A8%EB%9D%BC%EC%9D%B8%EC%A0%80%EC%A7%805.ipynb\" target=\"_parent\"><img src=\"https://colab.research.google.com/assets/colab-badge.svg\" alt=\"Open In Colab\"/></a>"
      ]
    },
    {
      "cell_type": "markdown",
      "source": [
        "for 문은 정해진 수만큼 반복\n",
        "\n",
        "while 문은 무한반복 원할 때 이용"
      ],
      "metadata": {
        "id": "5Q3n5WmVpzKF"
      }
    },
    {
      "cell_type": "code",
      "source": [
        "n = int(input())\n",
        "for i in range (0,n):\n",
        "  A, B = map(int,input().split())\n",
        "  if  A == 0 and B == 0:\n",
        "    break\n",
        "  else:\n",
        "    print(A+B)"
      ],
      "metadata": {
        "id": "UrRcbGp6kMk2"
      },
      "execution_count": null,
      "outputs": []
    },
    {
      "cell_type": "code",
      "source": [
        "while True:\n",
        "  A, B = map(int,input().split())\n",
        "  if  A == 0 and B == 0:\n",
        "    break\n",
        "  else:\n",
        "    print(A+B)  "
      ],
      "metadata": {
        "colab": {
          "base_uri": "https://localhost:8080/"
        },
        "id": "PJ7_mZwRoy-c",
        "outputId": "58ed7895-a16c-4a8d-f34d-cee4ac05ceb5"
      },
      "execution_count": 42,
      "outputs": [
        {
          "name": "stdout",
          "output_type": "stream",
          "text": [
            "1 1\n",
            "2\n",
            "2 4\n",
            "6\n",
            "0 0\n"
          ]
        }
      ]
    },
    {
      "cell_type": "code",
      "source": [
        "n = int(input())\n",
        "for i in range (n):\n",
        "  print('반복', i+1)\n",
        "  A, B = map(int,input().split())"
      ],
      "metadata": {
        "colab": {
          "base_uri": "https://localhost:8080/"
        },
        "id": "wNLl1jP6n0J1",
        "outputId": "e115c48c-6b02-49de-c07a-be397ceea333"
      },
      "execution_count": 41,
      "outputs": [
        {
          "name": "stdout",
          "output_type": "stream",
          "text": [
            "2\n",
            "반복 1\n",
            "1 1\n",
            "반복 2\n",
            "2 3\n"
          ]
        }
      ]
    },
    {
      "cell_type": "code",
      "source": [
        "n = int(input())\n",
        "for i in range (n):\n",
        "   A, B = map(int,input().split())"
      ],
      "metadata": {
        "id": "_NchE8h2oWwF"
      },
      "execution_count": null,
      "outputs": []
    }
  ]
}