{
  "nbformat": 4,
  "nbformat_minor": 0,
  "metadata": {
    "colab": {
      "name": "4-202255127.ipynb",
      "provenance": [],
      "authorship_tag": "ABX9TyPoPOP1KB7bAYetGcWmV9DK",
      "include_colab_link": true
    },
    "kernelspec": {
      "name": "python3",
      "display_name": "Python 3"
    },
    "language_info": {
      "name": "python"
    }
  },
  "cells": [
    {
      "cell_type": "markdown",
      "metadata": {
        "id": "view-in-github",
        "colab_type": "text"
      },
      "source": [
        "<a href=\"https://colab.research.google.com/github/munmoom/5-BCP/blob/main/4-202255127.ipynb\" target=\"_parent\"><img src=\"https://colab.research.google.com/assets/colab-badge.svg\" alt=\"Open In Colab\"/></a>"
      ]
    },
    {
      "cell_type": "markdown",
      "source": [
        "하려는 말은 최소 하나 이상의 단어를 포함하는데 각 단어들은 정확히 한칸의 공백으로 구분이 된다. split -> list\n",
        "\n",
        "줄임말을 만들때는 각 단어의 앞글자를 따서 만들어지는데 \n",
        "\n",
        "다음의 단어들은 쓸모없는 단어들이므로 무시한다.\n",
        "\n",
        "하지만 이 단어들이 하려는 말의 맨 앞에 올경우 매우 중요하다고 판단되어 무시하면 안되고 줄임말에 포함하여야 한다. \n",
        "\n",
        "\n",
        "\n",
        "'i', 'pa', 'te', 'ni', 'niti', 'a', 'ali', 'nego', 'no', 'ili'.\n",
        "\n",
        "///\n",
        "\n",
        "단, 줄임말은 모두 대문자로만 이루어져있다. upper()\n",
        "\n",
        "\n",
        "\n",
        "입력\n",
        "\n",
        "유일하게 한 줄만 주어지며 하려는 말이 포함되어 있다.\n",
        "\n",
        "문장은 알파벳 소문자와 공백으로만 이루어져 있다.\n",
        "\n",
        "\n",
        "\n",
        "예시 micro soft\n",
        "-> MS"
      ],
      "metadata": {
        "id": "gNYYloKbG9R9"
      }
    },
    {
      "cell_type": "code",
      "source": [
        "say = input().split()\n",
        "print(say)\n",
        "\n",
        "if 'i' in say:\n",
        " num = say.index('i')\n",
        " if num == 0:\n",
        "   while 'i' in say:\n",
        "    say.remove('i') \n",
        "    print(say)\n",
        "\n",
        " say.insert(0,'i')\n",
        " print(say)\n",
        "\n",
        "\n",
        " str(say)\n",
        " print(say)"
      ],
      "metadata": {
        "colab": {
          "base_uri": "https://localhost:8080/"
        },
        "id": "vwDg2EkApGVQ",
        "outputId": "859278ae-899e-40ce-a6a3-addd09fade8b"
      },
      "execution_count": 24,
      "outputs": [
        {
          "output_type": "stream",
          "name": "stdout",
          "text": [
            "i i i\n",
            "['i', 'i', 'i']\n",
            "['i', 'i']\n",
            "['i']\n",
            "[]\n",
            "['i']\n",
            "['i']\n"
          ]
        }
      ]
    },
    {
      "cell_type": "markdown",
      "source": [
        "'i', 'pa', 'te', 'ni', 'niti', 'a', 'ali', 'nego', 'no', 'ili'."
      ],
      "metadata": {
        "id": "N7jLzhE4txWw"
      }
    },
    {
      "cell_type": "code",
      "source": [
        "if 'i' in say:\n",
        " num = say.index('i')\n",
        " if num == 0:\n",
        "   while 'i' in say:\n",
        "    say.remove('i') \n",
        "\n",
        " say.insert(0,'i')"
      ],
      "metadata": {
        "id": "uA7pvLmPtpds"
      },
      "execution_count": null,
      "outputs": []
    }
  ]
}