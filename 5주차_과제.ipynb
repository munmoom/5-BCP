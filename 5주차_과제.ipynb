{
  "nbformat": 4,
  "nbformat_minor": 0,
  "metadata": {
    "colab": {
      "name": "5주차 과제.ipynb",
      "provenance": [],
      "authorship_tag": "ABX9TyNttDs1wHhUYI5SYal6an5g",
      "include_colab_link": true
    },
    "kernelspec": {
      "name": "python3",
      "display_name": "Python 3"
    },
    "language_info": {
      "name": "python"
    }
  },
  "cells": [
    {
      "cell_type": "markdown",
      "metadata": {
        "id": "view-in-github",
        "colab_type": "text"
      },
      "source": [
        "<a href=\"https://colab.research.google.com/github/munmoom/5-BCP/blob/main/5%EC%A3%BC%EC%B0%A8_%EA%B3%BC%EC%A0%9C.ipynb\" target=\"_parent\"><img src=\"https://colab.research.google.com/assets/colab-badge.svg\" alt=\"Open In Colab\"/></a>"
      ]
    },
    {
      "cell_type": "markdown",
      "source": [
        "\n",
        "\n",
        "\n",
        "꿍은 만사가 귀찮아서 말을 하기도 귀찮아 한다. 그래서 하려는 말을 대신해줄 줄임말을 만들려고 하는데 나름 규칙을 만들었다. \n",
        "\n",
        "하려는 말은 최소 하나 이상의 단어를 포함하는데 각 단어들은 정확히 한칸의 공백으로 구분이 된다. \n",
        "\n",
        "줄임말을 만들때는 각 단어의 앞글자를 따서 만들어지는데 다음의 단어들은 쓸모없는 단어들이므로 무시한다.\n",
        "\n",
        "\n",
        "\n",
        "'i', 'pa', 'te', 'ni', 'niti', 'a', 'ali', 'nego', 'no', 'ili'.\n",
        "\n",
        "\n",
        "\n",
        "하지만 이 단어들이 하려는 말의 맨 앞에 올경우 매우 중요하다고 판단되어 무시하면 안되고 줄임말에 포함하여야 한다. \n",
        "\n",
        "줄임말을 만들기도 귀찮아진 꿍을 위해 줄임말을 만들어주는 프로그램을 작성하고 소스코드(파일형식은 ‘4-학번.py’)를 제출하시오.\n",
        "\n",
        "단, 줄임말은 모두 대문자로만 이루어져있다.\n",
        "\n",
        "\n",
        "\n",
        "입력\n",
        "\n",
        "유일하게 한 줄만 주어지며 하려는 말이 포함되어 있다.\n",
        "\n",
        "문장은 알파벳 소문자와 공백으로만 이루어져 있다.\n",
        "\n",
        "문장의 최대길이는 100이다.\n",
        "\n",
        "예시 micro soft\n",
        "\n",
        "\n",
        "\n",
        "출력\n",
        "\n",
        "만들어진 줄임말을 출력하라.\n",
        "\n",
        "예시 MS"
      ],
      "metadata": {
        "id": "O3iWjWEIcMTW"
      }
    },
    {
      "cell_type": "code",
      "execution_count": null,
      "metadata": {
        "id": "bx_Uvw71cJFs"
      },
      "outputs": [],
      "source": [
        "form sys import stdin\n",
        "trash = []\n",
        "\n",
        "words = stdin.readline().split() #input과 같음, for문에서 빠름, \n",
        "result = words[0][0].upper() #단어의 첫글자만, 가장 처음에 오는 단어는 무조건 줄임\n",
        "words = words[1:]\n",
        "for word in words: #['is', 'friday']\n",
        " if word not in trash:\n",
        "   result += word[0].upper\n",
        "\n",
        "print(result())"
      ]
    },
    {
      "cell_type": "markdown",
      "source": [
        "5\n"
      ],
      "metadata": {
        "id": "JUMhEN_YeIOF"
      }
    },
    {
      "cell_type": "code",
      "source": [
        "stdin.readline().rstrip().upper() # 오른쪽 한 칸 삭제(공백이 있었)\n",
        "\n",
        "Max = 0\n",
        "\n",
        "for i in set(word): # set 중복 제거됨\n",
        " if word.count(i) > Max:\n",
        "   result = i\n",
        "   Max = word.count(i)\n",
        "  elif word.count(i)== Max:\n",
        "    result = '?'\n",
        "\n",
        "    "
      ],
      "metadata": {
        "id": "hwDosj7NeH6V"
      },
      "execution_count": null,
      "outputs": []
    },
    {
      "cell_type": "markdown",
      "source": [
        "온라인저지 7"
      ],
      "metadata": {
        "id": "gCsewDcHfqdd"
      }
    },
    {
      "cell_type": "code",
      "source": [
        "num = int(stdin.readline())\n",
        "for _ in range(num)\n",
        " wro, word = stdin.readline.split()\n",
        " wro = int(wro)\n",
        " word = list(word)\n",
        " word.pop(wro-1)\n",
        " word = ''.join(word) #문자열로"
      ],
      "metadata": {
        "id": "PtIDtZ0Bfkrt"
      },
      "execution_count": null,
      "outputs": []
    },
    {
      "cell_type": "markdown",
      "source": [
        "8\n"
      ],
      "metadata": {
        "id": "2xVN27HqgZ3e"
      }
    },
    {
      "cell_type": "code",
      "source": [
        "n = int(stdin.readline()) #과목 수 받기 3\n",
        "score=list(map(int.stdin.readline().split()))\n",
        "m=max(score) #m=80\n",
        "sum=0\n",
        "\n",
        "for i in score:\n",
        "  b=(i/m*100)\n",
        "  sum=+b\n",
        "\n",
        "print(f'{round((sum/n).2)}')# 2번째 자리까지 반올림"
      ],
      "metadata": {
        "id": "kqEl6zOEgbj1"
      },
      "execution_count": null,
      "outputs": []
    },
    {
      "cell_type": "markdown",
      "source": [
        "9"
      ],
      "metadata": {
        "id": "12uX2lF5hbTO"
      }
    },
    {
      "cell_type": "code",
      "source": [
        "n = int(stdin.readline()\n",
        "\n",
        "for i in range(n):\n",
        "  nums = list(map(int.stdin.readline().split()))\n",
        "  avg = sum(nums[1:])/nums[0]\n",
        "  cnt = 0\n",
        "\n",
        "  for score in nums[1:]: #[50]\n",
        "   if score >avg:\n",
        "     cnt +=1\n",
        "  rate = cnu/nums[0]*100\n",
        "\n",
        "  \n",
        "\n"
      ],
      "metadata": {
        "id": "UYKO3XayhhZO"
      },
      "execution_count": null,
      "outputs": []
    }
  ]
}