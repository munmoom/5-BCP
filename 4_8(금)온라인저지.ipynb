{
  "nbformat": 4,
  "nbformat_minor": 0,
  "metadata": {
    "colab": {
      "name": "4_8(금)온라인저지.ipynb",
      "provenance": [],
      "authorship_tag": "ABX9TyM0D8Mjl08Mtc//NvRiJYzN",
      "include_colab_link": true
    },
    "kernelspec": {
      "name": "python3",
      "display_name": "Python 3"
    },
    "language_info": {
      "name": "python"
    }
  },
  "cells": [
    {
      "cell_type": "markdown",
      "metadata": {
        "id": "view-in-github",
        "colab_type": "text"
      },
      "source": [
        "<a href=\"https://colab.research.google.com/github/munmoom/5-BCP/blob/main/4_8(%EA%B8%88)%EC%98%A8%EB%9D%BC%EC%9D%B8%EC%A0%80%EC%A7%80.ipynb\" target=\"_parent\"><img src=\"https://colab.research.google.com/assets/colab-badge.svg\" alt=\"Open In Colab\"/></a>"
      ]
    },
    {
      "cell_type": "code",
      "execution_count": null,
      "metadata": {
        "colab": {
          "base_uri": "https://localhost:8080/"
        },
        "id": "lyXco1h0-O99",
        "outputId": "e59bc5d0-a5cc-4de3-ed3a-5f3dc957863b"
      },
      "outputs": [
        {
          "output_type": "stream",
          "name": "stdout",
          "text": [
            " The first character is a blank\n",
            "6\n"
          ]
        }
      ],
      "source": [
        "words = input().split()\n",
        "list(words)\n",
        "\n",
        "num = len(words) \n",
        "print(num)"
      ]
    },
    {
      "cell_type": "markdown",
      "source": [
        "입력은 map(input().split())로 받는다\n",
        "\n",
        "len()함수로 list안 원소 개수를 센다\n"
      ],
      "metadata": {
        "id": "3bADx5ef-Rug"
      }
    },
    {
      "cell_type": "markdown",
      "source": [
        ""
      ],
      "metadata": {
        "id": "qEzGKd87YPdy"
      }
    },
    {
      "cell_type": "markdown",
      "source": [
        ""
      ],
      "metadata": {
        "id": "VogK2VTTYPJV"
      }
    },
    {
      "cell_type": "markdown",
      "source": [
        ""
      ],
      "metadata": {
        "id": "UaSR99XNYPFA"
      }
    },
    {
      "cell_type": "code",
      "source": [
        "from sys import stdin\n",
        "\n",
        "num = int(input())\n",
        "\n",
        "for _ in range(num):\n",
        " spot, word = stdin.readline().split()\n",
        " spot = int(spot)\n",
        " word = list(word)\n",
        " del word[spot-1]\n",
        " word = ''.join(word)\n",
        " print(word)"
      ],
      "metadata": {
        "id": "xgxw4z2NCptu"
      },
      "execution_count": null,
      "outputs": []
    },
    {
      "cell_type": "code",
      "source": [
        "import sys\n",
        "num = int(input())\n",
        "\n",
        "for _ in range(num):\n",
        " spot, word = sys.stdin.readline().split()\n",
        " spot = int(spot)\n",
        " word = list(word)\n",
        " del word[spot-1]\n",
        " word = ''.join(word)\n",
        " print(word)"
      ],
      "metadata": {
        "id": "gDlzbxYlYR01"
      },
      "execution_count": null,
      "outputs": []
    },
    {
      "cell_type": "markdown",
      "source": [
        "위에거가 조교쌤"
      ],
      "metadata": {
        "id": "89ut24abY3oS"
      }
    },
    {
      "cell_type": "code",
      "source": [
        "import sys\n",
        "num = int(input())\n",
        "\n",
        "for _ in range(num):\n",
        " spot, word = input().split()\n",
        "\n",
        "type(spot)\n"
      ],
      "metadata": {
        "id": "QQ9y6js1Y6wa",
        "outputId": "9336727e-8987-416f-ac6e-a9fbbc7f26a0",
        "colab": {
          "base_uri": "https://localhost:8080/"
        }
      },
      "execution_count": 13,
      "outputs": [
        {
          "name": "stdout",
          "output_type": "stream",
          "text": [
            "1\n",
            "4 MISSPELL\n"
          ]
        },
        {
          "output_type": "execute_result",
          "data": {
            "text/plain": [
              "str"
            ]
          },
          "metadata": {},
          "execution_count": 13
        }
      ]
    },
    {
      "cell_type": "code",
      "source": [
        "num = int(input())\n",
        "\n",
        "for _ in range(num):\n",
        " spot, word = input().split()\n",
        " spot = int(spot)\n",
        " word = list(word)\n",
        " del word[spot-1]\n",
        " word = ''.join(word)\n",
        " print(word)"
      ],
      "metadata": {
        "id": "wvf6TmPSXekD",
        "outputId": "e834abf4-9a59-4357-9672-63cff07b5e4d",
        "colab": {
          "base_uri": "https://localhost:8080/"
        }
      },
      "execution_count": 8,
      "outputs": [
        {
          "output_type": "stream",
          "name": "stdout",
          "text": [
            "4\n",
            "4 MISSPELL\n",
            "MISPELL\n",
            "1 PROGRAMMING\n",
            "ROGRAMMING\n",
            "7 CONTEST\n",
            "CONTES\n",
            "3 BALLOON\n",
            "BALOON\n"
          ]
        }
      ]
    },
    {
      "cell_type": "code",
      "source": [
        ""
      ],
      "metadata": {
        "id": "BBcMTEx0YROu"
      },
      "execution_count": null,
      "outputs": []
    },
    {
      "cell_type": "markdown",
      "source": [
        "각 입력은 한 줄씩 되어 있고 처음 입력받은 수만큼 입력받는다\n",
        "\n",
        "for문으로 여러 번 입력받는다\n",
        "\n",
        "여러 번 입력받을 때는 sys.stdin.readline()함수를 사용한다\n",
        "\n",
        "\n",
        "문자열은 immutable이므로 list로 바꾼다.\n",
        "\n",
        "오타를 낸 위치는 정수로 받는다\n",
        "\n",
        "오타를 낸 위치 -1을 하면 index가 된다\n",
        "\n",
        "index위치 원소를 지우는 함수를 사용한다\n",
        "\n",
        "del words[]사용\n",
        "\n",
        "list를 다시 문자열로 바꾼다"
      ],
      "metadata": {
        "id": "w4H1XgfuCqZi"
      }
    },
    {
      "cell_type": "code",
      "source": [
        ""
      ],
      "metadata": {
        "id": "HUEBQ27rPYNA"
      },
      "execution_count": null,
      "outputs": []
    },
    {
      "cell_type": "markdown",
      "source": [
        "첫째 줄은 int(stdin.readline())으로 읽고\n",
        "\n",
        "둘째 줄은 int(stidin.readline.split())으로 읽는다\n",
        "\n",
        "split함수를 썼으므로 둘째 줄은 리스트이다\n",
        "\n",
        "점수가 여러 개이므로 for문을 써서 \n",
        "\n",
        "for sco in score:\n",
        "\n",
        "(((가장 큰 점수가 M이므로 크기비교\n",
        "\n",
        "M은 값 저장 위해 설정 M=0\n",
        "\n",
        "sco>M\n",
        "\n",
        "sco = M)))\n",
        "\n",
        "max함수로 대체가능하다\n",
        "\n",
        "새로운 평균은 (점수/M)*100 이다\n",
        "\n",
        "시험 본 과목의 개수만큼 반복한다\n",
        "\n",
        "소숫점 셋째 자리에서 반올림한다는 말은 둘째 자리까지 남겨둔다는 말이다\n",
        "\n",
        "round함수를 사용한다(반올림 할 수,소숫점 뒤 자릿수)\n",
        "\n",
        "새로운 평균 print"
      ],
      "metadata": {
        "id": "uwQxhQb4PYeM"
      }
    },
    {
      "cell_type": "code",
      "source": [
        "A = input().split()\n",
        "\n",
        "print(A)"
      ],
      "metadata": {
        "id": "B0G6h1vlVBkd",
        "outputId": "87aa9c56-a66a-4bfd-8608-79574639b57c",
        "colab": {
          "base_uri": "https://localhost:8080/"
        }
      },
      "execution_count": 5,
      "outputs": [
        {
          "output_type": "stream",
          "name": "stdout",
          "text": [
            "sugar yes pleas\n",
            "['sugar', 'yes', 'pleas']\n"
          ]
        }
      ]
    },
    {
      "cell_type": "code",
      "source": [
        "import sys\n",
        "\n",
        "num = int(input())\n",
        "\n",
        "for _ in range(num):\n",
        " spot, word = sys.stdin.readline().split()\n",
        " spot = int(spot)\n",
        " word = list(word)\n",
        " del word[spot-1]\n",
        " word = ''.join(word)\n",
        " print(word)"
      ],
      "metadata": {
        "id": "SMeURUexWJ4y",
        "outputId": "8adff722-e927-4a52-9a0c-2a0a8ef4eb6c",
        "colab": {
          "base_uri": "https://localhost:8080/",
          "height": 263
        }
      },
      "execution_count": 6,
      "outputs": [
        {
          "name": "stdout",
          "output_type": "stream",
          "text": [
            "4\n"
          ]
        },
        {
          "output_type": "error",
          "ename": "ValueError",
          "evalue": "ignored",
          "traceback": [
            "\u001b[0;31m---------------------------------------------------------------------------\u001b[0m",
            "\u001b[0;31mValueError\u001b[0m                                Traceback (most recent call last)",
            "\u001b[0;32m<ipython-input-6-d9b30d4a1f15>\u001b[0m in \u001b[0;36m<module>\u001b[0;34m()\u001b[0m\n\u001b[1;32m      4\u001b[0m \u001b[0;34m\u001b[0m\u001b[0m\n\u001b[1;32m      5\u001b[0m \u001b[0;32mfor\u001b[0m \u001b[0m_\u001b[0m \u001b[0;32min\u001b[0m \u001b[0mrange\u001b[0m\u001b[0;34m(\u001b[0m\u001b[0mnum\u001b[0m\u001b[0;34m)\u001b[0m\u001b[0;34m:\u001b[0m\u001b[0;34m\u001b[0m\u001b[0;34m\u001b[0m\u001b[0m\n\u001b[0;32m----> 6\u001b[0;31m  \u001b[0mspot\u001b[0m\u001b[0;34m,\u001b[0m \u001b[0mword\u001b[0m \u001b[0;34m=\u001b[0m \u001b[0msys\u001b[0m\u001b[0;34m.\u001b[0m\u001b[0mstdin\u001b[0m\u001b[0;34m.\u001b[0m\u001b[0mreadline\u001b[0m\u001b[0;34m(\u001b[0m\u001b[0;34m)\u001b[0m\u001b[0;34m.\u001b[0m\u001b[0msplit\u001b[0m\u001b[0;34m(\u001b[0m\u001b[0;34m)\u001b[0m\u001b[0;34m\u001b[0m\u001b[0;34m\u001b[0m\u001b[0m\n\u001b[0m\u001b[1;32m      7\u001b[0m  \u001b[0mspot\u001b[0m \u001b[0;34m=\u001b[0m \u001b[0mint\u001b[0m\u001b[0;34m(\u001b[0m\u001b[0mspot\u001b[0m\u001b[0;34m)\u001b[0m\u001b[0;34m\u001b[0m\u001b[0;34m\u001b[0m\u001b[0m\n\u001b[1;32m      8\u001b[0m  \u001b[0mword\u001b[0m \u001b[0;34m=\u001b[0m \u001b[0mlist\u001b[0m\u001b[0;34m(\u001b[0m\u001b[0mword\u001b[0m\u001b[0;34m)\u001b[0m\u001b[0;34m\u001b[0m\u001b[0;34m\u001b[0m\u001b[0m\n",
            "\u001b[0;31mValueError\u001b[0m: not enough values to unpack (expected 2, got 0)"
          ]
        }
      ]
    }
  ]
}